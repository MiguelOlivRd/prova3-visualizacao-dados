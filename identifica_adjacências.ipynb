{
 "cells": [
  {
   "cell_type": "code",
   "execution_count": 5,
   "id": "1eec86b4",
   "metadata": {},
   "outputs": [],
   "source": [
    "import pandas as pd \n",
    "\n",
    "railway = pd.read_csv(\"railway.csv\")"
   ]
  },
  {
   "cell_type": "code",
   "execution_count": 4,
   "id": "f80bd44d",
   "metadata": {},
   "outputs": [
    {
     "data": {
      "text/plain": [
       "Index(['Transaction ID', 'Date of Purchase', 'Time of Purchase',\n",
       "       'Purchase Type', 'Payment Method', 'Railcard', 'Ticket Class',\n",
       "       'Ticket Type', 'Price', 'Departure Station', 'Arrival Destination',\n",
       "       'Date of Journey', 'Departure Time', 'Arrival Time',\n",
       "       'Actual Arrival Time', 'Journey Status', 'Reason for Delay',\n",
       "       'Refund Request'],\n",
       "      dtype='object')"
      ]
     },
     "execution_count": 4,
     "metadata": {},
     "output_type": "execute_result"
    }
   ],
   "source": [
    "railway.columns"
   ]
  },
  {
   "cell_type": "code",
   "execution_count": 9,
   "id": "ed52cce2",
   "metadata": {},
   "outputs": [],
   "source": [
    "adjacencies = {}\n",
    "\n",
    "for i, row in railway.iterrows():\n",
    "    departure = row[\"Departure Station\"]\n",
    "    arrival = row[\"Arrival Destination\"]\n",
    "    if departure not in adjacencies:\n",
    "        adjacencies[departure] = set()\n",
    "\n",
    "    adjacencies[departure].add(arrival)\n",
    "\n",
    "for station in adjacencies:\n",
    "    adjacencies[station] = list(adjacencies[station])\n"
   ]
  },
  {
   "cell_type": "code",
   "execution_count": 12,
   "id": "a3219fd3",
   "metadata": {},
   "outputs": [],
   "source": [
    "import json\n",
    "\n",
    "with open(\"adjacencies.json\", \"w\") as f:\n",
    "    json.dump(adjacencies, f, indent=2)"
   ]
  },
  {
   "cell_type": "code",
   "execution_count": 13,
   "id": "8cbd8a88",
   "metadata": {},
   "outputs": [
    {
     "data": {
      "text/plain": [
       "{'London Paddington': ['London Waterloo',\n",
       "  'Oxford',\n",
       "  'Reading',\n",
       "  'Liverpool Lime Street',\n",
       "  'Manchester Piccadilly'],\n",
       " 'London Kings Cross': ['York', 'Edinburgh Waverley', 'Liverpool Lime Street'],\n",
       " 'Liverpool Lime Street': ['Birmingham New Street',\n",
       "  'London Euston',\n",
       "  'London Paddington',\n",
       "  'Sheffield',\n",
       "  'Leeds',\n",
       "  'London St Pancras',\n",
       "  'Crewe',\n",
       "  'Manchester Piccadilly'],\n",
       " 'London Euston': ['Oxford',\n",
       "  'York',\n",
       "  'Birmingham New Street',\n",
       "  'Manchester Piccadilly'],\n",
       " 'York': ['Wakefield',\n",
       "  'Birmingham New Street',\n",
       "  'Peterborough',\n",
       "  'Edinburgh',\n",
       "  'Edinburgh Waverley',\n",
       "  'Doncaster',\n",
       "  'Leeds',\n",
       "  'Liverpool Lime Street',\n",
       "  'Durham'],\n",
       " 'Manchester Piccadilly': ['Nottingham',\n",
       "  'London Euston',\n",
       "  'Sheffield',\n",
       "  'London Kings Cross',\n",
       "  'Leeds',\n",
       "  'London St Pancras',\n",
       "  'Liverpool Lime Street',\n",
       "  'London Paddington',\n",
       "  'York',\n",
       "  'Warrington'],\n",
       " 'Birmingham New Street': ['London Euston',\n",
       "  'Stafford',\n",
       "  'London Paddington',\n",
       "  'Edinburgh',\n",
       "  'Reading',\n",
       "  'Wolverhampton',\n",
       "  'London Kings Cross',\n",
       "  'London St Pancras',\n",
       "  'Liverpool Lime Street',\n",
       "  'Manchester Piccadilly',\n",
       "  'York',\n",
       "  'Coventry',\n",
       "  'Tamworth',\n",
       "  'Nuneaton'],\n",
       " 'London St Pancras': ['Wolverhampton', 'Birmingham New Street', 'Leicester'],\n",
       " 'Oxford': ['Bristol Temple Meads'],\n",
       " 'Reading': ['Birmingham New Street',\n",
       "  'Oxford',\n",
       "  'Didcot',\n",
       "  'Liverpool Lime Street',\n",
       "  'London Paddington',\n",
       "  'Swindon'],\n",
       " 'Edinburgh Waverley': ['London Kings Cross'],\n",
       " 'Bristol Temple Meads': ['Cardiff Central']}"
      ]
     },
     "execution_count": 13,
     "metadata": {},
     "output_type": "execute_result"
    }
   ],
   "source": [
    "adjacencies"
   ]
  },
  {
   "cell_type": "code",
   "execution_count": 15,
   "id": "7ac320d6",
   "metadata": {},
   "outputs": [
    {
     "data": {
      "text/plain": [
       "(16,\n",
       " [6,\n",
       "  1155,\n",
       "  3064,\n",
       "  3315,\n",
       "  5878,\n",
       "  6157,\n",
       "  8047,\n",
       "  12508,\n",
       "  13466,\n",
       "  14902,\n",
       "  15558,\n",
       "  16963,\n",
       "  19932,\n",
       "  22933,\n",
       "  29355,\n",
       "  30700])"
      ]
     },
     "execution_count": 15,
     "metadata": {},
     "output_type": "execute_result"
    }
   ],
   "source": [
    "count = 0\n",
    "start = \"London Euston\"\n",
    "end = \"Oxford\"\n",
    "\n",
    "Is = []\n",
    "for i, row in railway.iterrows():\n",
    "    if row[\"Departure Station\"] == start and row[\"Arrival Destination\"] == end:\n",
    "        count += 1\n",
    "        Is.append(i)\n",
    "\n",
    "count, Is"
   ]
  },
  {
   "cell_type": "code",
   "execution_count": 19,
   "id": "f1ada30c",
   "metadata": {},
   "outputs": [],
   "source": [
    "for i in Is:\n",
    "    row = railway.iloc[i]\n",
    "    if row[\"Journey Status\"] != \"On Time\":\n",
    "        print(i, row[\"Journey Status\"], row[\"Departure Time\"], row[\"Arrival Time\"])"
   ]
  }
 ],
 "metadata": {
  "kernelspec": {
   "display_name": "vision",
   "language": "python",
   "name": "python3"
  },
  "language_info": {
   "codemirror_mode": {
    "name": "ipython",
    "version": 3
   },
   "file_extension": ".py",
   "mimetype": "text/x-python",
   "name": "python",
   "nbconvert_exporter": "python",
   "pygments_lexer": "ipython3",
   "version": "3.12.3"
  }
 },
 "nbformat": 4,
 "nbformat_minor": 5
}
